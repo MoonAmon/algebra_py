{
 "cells": [
  {
   "cell_type": "markdown",
   "metadata": {},
   "source": [
    "# Exercises Python Proporsions"
   ]
  },
  {
   "cell_type": "markdown",
   "metadata": {},
   "source": [
    "Set up a proportion:<br>\n",
    "$\\frac{n1}{d1}=\\frac{n2}{d2}$"
   ]
  },
  {
   "cell_type": "code",
   "execution_count": null,
   "metadata": {},
   "outputs": [],
   "source": [
    "n1 = 23\n",
    "d1 = 4\n",
    "n2 = 0\n",
    "d2 = 34\n",
    "if n2==0:\n",
    "    answer= n1 * d2 / d1\n",
    "    print(\"n2 = \", answer)\n",
    "if d2==0:\n",
    "    answer= d1 * n2 / n1\n",
    "    print(\"d2 = \", answer)"
   ]
  },
  {
   "cell_type": "code",
   "execution_count": 9,
   "metadata": {},
   "outputs": [
    {
     "name": "stdout",
     "output_type": "stream",
     "text": [
      "3\n",
      "39\n",
      "2.25\n",
      "184\n",
      "0.3333333333333333\n",
      "2.1666666666666665\n",
      "2.1818181818181817\n",
      "1.0909090909090908\n",
      "2.0\n"
     ]
    }
   ],
   "source": [
    "print(11 - 8)\n",
    "print(24 + 15)\n",
    "print(18 / 8)\n",
    "print(23 * 8)\n",
    "print((10-9)/3)\n",
    "print(13/6)\n",
    "print((33-9)/11)\n",
    "print(12/11)\n",
    "print(10/5)"
   ]
  },
  {
   "cell_type": "markdown",
   "metadata": {},
   "source": [
    "## Respostas week 1"
   ]
  },
  {
   "cell_type": "markdown",
   "metadata": {},
   "source": [
    "x +  8  =  11\n",
    "Correct! \n",
    "\n",
    "-15  + x =  24\n",
    "Correct! \n",
    "\n",
    "8 x =  18\n",
    "Round your answer to two decimal places.\n",
    "Correct! \n",
    "\n",
    "x/ 8  =  23\n",
    "Correct! \n",
    "\n",
    "3 x +  9  =  10\n",
    "Round answer to two decimal places\n",
    "Correct! \n",
    "\n",
    " \n",
    "x +  4  =  24\n",
    "Correct! \n",
    "\n",
    "-12  + x =  20\n",
    "Correct! \n",
    "\n",
    "6 x =  13\n",
    "Round your answer to two decimal places.\n",
    "Try again\n",
    "The correct answer is  2.17 \n",
    "\n",
    "x/ 5  =  4\n",
    "Correct! \n",
    "\n",
    "11 x +  9  =  33\n",
    "Round answer to two decimal places\n",
    "Correct! \n",
    "\n",
    " \n",
    "11 x +  -6  =  6\n",
    "Round answer to two decimal places\n",
    "Correct! \n",
    "\n",
    "5 x +  1  =  11\n",
    "Round answer to two decimal places\n",
    "Correct! \n",
    "\n"
   ]
  }
 ],
 "metadata": {
  "kernelspec": {
   "display_name": "Python 3",
   "language": "python",
   "name": "python3"
  },
  "language_info": {
   "codemirror_mode": {
    "name": "ipython",
    "version": 3
   },
   "file_extension": ".py",
   "mimetype": "text/x-python",
   "name": "python",
   "nbconvert_exporter": "python",
   "pygments_lexer": "ipython3",
   "version": "3.11.4"
  },
  "orig_nbformat": 4
 },
 "nbformat": 4,
 "nbformat_minor": 2
}
